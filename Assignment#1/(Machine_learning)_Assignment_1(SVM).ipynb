{
  "cells": [
    {
      "cell_type": "markdown",
      "metadata": {
        "id": "q9vLEPboyjqP"
      },
      "source": [
        "###1. Import the pachages needed for learning."
      ]
    },
    {
      "cell_type": "code",
      "execution_count": 31,
      "metadata": {
        "id": "JvvKQFNwykIa"
      },
      "outputs": [],
      "source": [
        "from torch.utils.data import DataLoader\n",
        "from torchvision import transforms,datasets\n",
        "import numpy as np\n",
        "from sklearn import svm\n",
        "from sklearn.metrics import accuracy_score\n",
        "from sklearn.tree import DecisionTreeClassifier\n",
        "from scipy.stats import randint\n",
        "from sklearn.model_selection import GridSearchCV"
      ]
    },
    {
      "cell_type": "markdown",
      "metadata": {
        "id": "742GPbZxyt72"
      },
      "source": [
        "### 2. Involves loading the data will be used for learning."
      ]
    },
    {
      "cell_type": "code",
      "execution_count": 32,
      "metadata": {
        "id": "S27wRrS6yu37"
      },
      "outputs": [],
      "source": [
        "# CIFAR-10 dataset\n",
        "# MNIST dataset"
      ]
    },
    {
      "cell_type": "code",
      "execution_count": 33,
      "metadata": {
        "colab": {
          "base_uri": "https://localhost:8080/"
        },
        "id": "y5xzT-oEywnJ",
        "outputId": "f3bb6e67-6401-4e04-9e83-488d8d8ef7e8"
      },
      "outputs": [
        {
          "output_type": "stream",
          "name": "stdout",
          "text": [
            "Downloading https://www.cs.toronto.edu/~kriz/cifar-10-python.tar.gz to ./data/cifar-10-python.tar.gz\n"
          ]
        },
        {
          "output_type": "stream",
          "name": "stderr",
          "text": [
            "100%|██████████| 170498071/170498071 [00:02<00:00, 63987044.16it/s]\n"
          ]
        },
        {
          "output_type": "stream",
          "name": "stdout",
          "text": [
            "Extracting ./data/cifar-10-python.tar.gz to ./data\n",
            "Files already downloaded and verified\n",
            "Files already downloaded and verified\n",
            "Files already downloaded and verified\n"
          ]
        }
      ],
      "source": [
        "# CIFAR-10\n",
        "CIFAR_transform_train = transforms.Compose([transforms.ToTensor()])\n",
        "CIFAR_transform_test = transforms.Compose([transforms.ToTensor()])\n",
        "trainset_CIFAR = datasets.CIFAR10(root=\"./data\",train=True , download=True, transform=CIFAR_transform_train)\n",
        "testset_CIFAR = datasets.CIFAR10(root=\"./data\",train=False , download=True, transform=CIFAR_transform_test)"
      ]
    },
    {
      "cell_type": "code",
      "execution_count": 34,
      "metadata": {
        "id": "RurKQoXty7Pl"
      },
      "outputs": [],
      "source": [
        "CIFAR_train = DataLoader(trainset_CIFAR,batch_size=32,shuffle=True,num_workers=2)\n",
        "CIFAR_test = DataLoader(testset_CIFAR,batch_size=32,shuffle=False,num_workers=2)"
      ]
    },
    {
      "cell_type": "code",
      "execution_count": 35,
      "metadata": {
        "id": "2k-9Zv7-03HH"
      },
      "outputs": [],
      "source": [
        "CIFAR_train_images=[]\n",
        "CIFAR_train_labels=[]"
      ]
    },
    {
      "cell_type": "code",
      "execution_count": 36,
      "metadata": {
        "id": "_8je56Ok04ti"
      },
      "outputs": [],
      "source": [
        "for batch in CIFAR_train:\n",
        "  images,labels = batch\n",
        "  images_flat = images.view(images.shape[0],-1)\n",
        "  CIFAR_train_images.append(images_flat.numpy())\n",
        "  CIFAR_train_labels.append(labels.numpy())"
      ]
    },
    {
      "cell_type": "code",
      "execution_count": 37,
      "metadata": {
        "id": "mMRc6rtf1C7e"
      },
      "outputs": [],
      "source": [
        "CIFAR_train_images = np.vstack(CIFAR_train_images)\n",
        "CIFAR_train_labels = np.concatenate(CIFAR_train_labels)"
      ]
    },
    {
      "cell_type": "code",
      "execution_count": 38,
      "metadata": {
        "id": "WmU-WN-Q1HXU"
      },
      "outputs": [],
      "source": [
        "CIFAR_test_images=[]\n",
        "CIFAR_test_labels=[]"
      ]
    },
    {
      "cell_type": "code",
      "execution_count": 39,
      "metadata": {
        "id": "qnmvbeR41IAa"
      },
      "outputs": [],
      "source": [
        "for batch in CIFAR_test:\n",
        "  images,labels=batch\n",
        "  images_flat=images.view(images.shape[0],-1)\n",
        "  CIFAR_test_images.append(images_flat.numpy())\n",
        "  CIFAR_test_labels.append(labels.numpy())"
      ]
    },
    {
      "cell_type": "code",
      "execution_count": 40,
      "metadata": {
        "id": "8Cznn8E11Jtk"
      },
      "outputs": [],
      "source": [
        "CIFAR_test_images=np.vstack(CIFAR_test_images)\n",
        "CIFAR_test_labels=np.concatenate(CIFAR_test_labels)"
      ]
    },
    {
      "cell_type": "code",
      "execution_count": 41,
      "metadata": {
        "colab": {
          "base_uri": "https://localhost:8080/"
        },
        "id": "XkYX3QOhtOQH",
        "outputId": "239272d8-a974-4d28-995c-31ce85489a92"
      },
      "outputs": [
        {
          "output_type": "stream",
          "name": "stdout",
          "text": [
            "2 (50000, 3072)\n",
            "1 (50000,)\n",
            "2 (50000, 3072)\n",
            "1 (50000,)\n"
          ]
        }
      ],
      "source": [
        "print(CIFAR_train_images.ndim,CIFAR_train_images.shape)\n",
        "print(CIFAR_train_labels.ndim,CIFAR_train_labels.shape)"
      ]
    },
    {
      "cell_type": "code",
      "execution_count": 42,
      "metadata": {
        "colab": {
          "base_uri": "https://localhost:8080/"
        },
        "id": "KHYR54O4t0TW",
        "outputId": "38d57725-737a-471d-bf36-e5209252b9ef"
      },
      "outputs": [
        {
          "output_type": "stream",
          "name": "stdout",
          "text": [
            "2 (10000, 3072)\n",
            "1 (10000,)\n",
            "2 (10000, 3072)\n",
            "1 (10000,)\n"
          ]
        }
      ],
      "source": [
        "print(CIFAR_test_images.ndim,CIFAR_test_images.shape)\n",
        "print(CIFAR_test_labels.ndim,CIFAR_test_labels.shape)"
      ]
    },
    {
      "cell_type": "markdown",
      "metadata": {
        "id": "fYEb5L6e1skO"
      },
      "source": [
        "### 3. MNIST dataset can be obtained in a similar way that the CIFAR-10 dataset is collected."
      ]
    },
    {
      "cell_type": "code",
      "execution_count": 43,
      "metadata": {
        "id": "FoR1mdDa1sGS"
      },
      "outputs": [],
      "source": [
        "#MNIST\n",
        "mnist_train_transform = transforms.Compose([transforms.ToTensor()])\n",
        "mnist_test_transform = transforms.Compose([transforms.ToTensor()])"
      ]
    },
    {
      "cell_type": "code",
      "execution_count": 44,
      "metadata": {
        "colab": {
          "base_uri": "https://localhost:8080/"
        },
        "id": "4gBPeq0g10CY",
        "outputId": "fdb9f579-7270-44db-ac82-56efa439fa29"
      },
      "outputs": [
        {
          "output_type": "stream",
          "name": "stdout",
          "text": [
            "Downloading http://yann.lecun.com/exdb/mnist/train-images-idx3-ubyte.gz\n",
            "Downloading http://yann.lecun.com/exdb/mnist/train-images-idx3-ubyte.gz to ./data/MNIST/raw/train-images-idx3-ubyte.gz\n"
          ]
        },
        {
          "output_type": "stream",
          "name": "stderr",
          "text": [
            "100%|██████████| 9912422/9912422 [00:00<00:00, 91515983.37it/s]\n"
          ]
        },
        {
          "output_type": "stream",
          "name": "stdout",
          "text": [
            "Extracting ./data/MNIST/raw/train-images-idx3-ubyte.gz to ./data/MNIST/raw\n",
            "\n",
            "Downloading http://yann.lecun.com/exdb/mnist/train-labels-idx1-ubyte.gz\n",
            "Downloading http://yann.lecun.com/exdb/mnist/train-labels-idx1-ubyte.gz to ./data/MNIST/raw/train-labels-idx1-ubyte.gz\n"
          ]
        },
        {
          "output_type": "stream",
          "name": "stderr",
          "text": [
            "100%|██████████| 28881/28881 [00:00<00:00, 74636903.16it/s]\n"
          ]
        },
        {
          "output_type": "stream",
          "name": "stdout",
          "text": [
            "Extracting ./data/MNIST/raw/train-labels-idx1-ubyte.gz to ./data/MNIST/raw\n",
            "\n",
            "Downloading http://yann.lecun.com/exdb/mnist/t10k-images-idx3-ubyte.gz\n",
            "Downloading http://yann.lecun.com/exdb/mnist/t10k-images-idx3-ubyte.gz to ./data/MNIST/raw/t10k-images-idx3-ubyte.gz\n"
          ]
        },
        {
          "output_type": "stream",
          "name": "stderr",
          "text": [
            "100%|██████████| 1648877/1648877 [00:00<00:00, 25627890.95it/s]\n"
          ]
        },
        {
          "output_type": "stream",
          "name": "stdout",
          "text": [
            "Extracting ./data/MNIST/raw/t10k-images-idx3-ubyte.gz to ./data/MNIST/raw\n",
            "\n",
            "Downloading http://yann.lecun.com/exdb/mnist/t10k-labels-idx1-ubyte.gz\n",
            "Downloading http://yann.lecun.com/exdb/mnist/t10k-labels-idx1-ubyte.gz to ./data/MNIST/raw/t10k-labels-idx1-ubyte.gz\n"
          ]
        },
        {
          "output_type": "stream",
          "name": "stderr",
          "text": [
            "100%|██████████| 4542/4542 [00:00<00:00, 9995030.83it/s]\n"
          ]
        },
        {
          "output_type": "stream",
          "name": "stdout",
          "text": [
            "Extracting ./data/MNIST/raw/t10k-labels-idx1-ubyte.gz to ./data/MNIST/raw\n",
            "\n"
          ]
        }
      ],
      "source": [
        "trainset_mnist = datasets.MNIST(root=\"./data\",train=True, download=True, transform=mnist_train_transform)\n",
        "testset_mnist = datasets.MNIST(root=\"./data\",train=False, download=True, transform=mnist_test_transform)"
      ]
    },
    {
      "cell_type": "code",
      "execution_count": 45,
      "metadata": {
        "id": "2Guqn47Z14yU"
      },
      "outputs": [],
      "source": [
        "MNIST_train = DataLoader(trainset_mnist, batch_size=32,shuffle=True, num_workers=2)\n",
        "MNIST_test = DataLoader(testset_mnist, batch_size=32,shuffle=False, num_workers=2)"
      ]
    },
    {
      "cell_type": "code",
      "execution_count": 46,
      "metadata": {
        "id": "pwaz0vpi15KQ"
      },
      "outputs": [],
      "source": [
        "MNIST_train_images=[]\n",
        "MNIST_train_labels=[]\n",
        "for batch in MNIST_train:\n",
        "  images,labels=batch\n",
        "  images_flat=images.view(images.shape[0],-1)\n",
        "  MNIST_train_images.append(images_flat.numpy())\n",
        "  MNIST_train_labels.append(labels.numpy())"
      ]
    },
    {
      "cell_type": "code",
      "execution_count": 47,
      "metadata": {
        "id": "xolV0-_l16ac"
      },
      "outputs": [],
      "source": [
        "MNIST_train_images=np.vstack(MNIST_train_images)\n",
        "MNIST_train_labels=np.concatenate(MNIST_train_labels)"
      ]
    },
    {
      "cell_type": "code",
      "execution_count": 48,
      "metadata": {
        "id": "QRPJyQsO17qW"
      },
      "outputs": [],
      "source": [
        "MNIST_test_images=[]\n",
        "MNIST_test_labels=[]\n",
        "for batch in MNIST_test:\n",
        "  images,labels=batch\n",
        "  images_flat=images.view(images.shape[0],-1)\n",
        "  MNIST_test_images.append(images_flat.numpy())\n",
        "  MNIST_test_labels.append(labels.numpy())"
      ]
    },
    {
      "cell_type": "code",
      "execution_count": 49,
      "metadata": {
        "id": "5ISrH2tl19f_"
      },
      "outputs": [],
      "source": [
        "MNIST_test_images=np.vstack(MNIST_test_images)\n",
        "MNIST_test_labels=np.concatenate(MNIST_test_labels)"
      ]
    },
    {
      "cell_type": "code",
      "execution_count": 50,
      "metadata": {
        "colab": {
          "base_uri": "https://localhost:8080/"
        },
        "id": "M-jtlC-CuJYG",
        "outputId": "c5803599-2691-413c-9a8f-33e62b061055"
      },
      "outputs": [
        {
          "output_type": "stream",
          "name": "stdout",
          "text": [
            "2 (60000, 784)\n",
            "1 (60000,)\n",
            "2 (60000, 784)\n",
            "1 (60000,)\n"
          ]
        }
      ],
      "source": [
        "print(MNIST_train_images.ndim,MNIST_train_images.shape)\n",
        "print(MNIST_train_labels.ndim,MNIST_train_labels.shape)"
      ]
    },
    {
      "cell_type": "code",
      "execution_count": 51,
      "metadata": {
        "colab": {
          "base_uri": "https://localhost:8080/"
        },
        "id": "kDoJFEEGuVZi",
        "outputId": "11115283-fce0-49d5-f79a-2f1480cbd084"
      },
      "outputs": [
        {
          "output_type": "stream",
          "name": "stdout",
          "text": [
            "2 (10000, 784)\n",
            "1 (10000,)\n",
            "2 (10000, 784)\n",
            "1 (10000,)\n"
          ]
        }
      ],
      "source": [
        "print(MNIST_test_images.ndim,MNIST_test_images.shape)\n",
        "print(MNIST_test_labels.ndim,MNIST_test_labels.shape)"
      ]
    },
    {
      "cell_type": "markdown",
      "metadata": {
        "id": "H_RokY2E2Iqi"
      },
      "source": [
        "### SVM"
      ]
    },
    {
      "cell_type": "markdown",
      "metadata": {
        "id": "s7yp7sud2NtE"
      },
      "source": [
        "#### CIFAR-10 dataset"
      ]
    },
    {
      "cell_type": "code",
      "execution_count": 52,
      "metadata": {
        "id": "5kTv4V1540db"
      },
      "outputs": [],
      "source": [
        "classifier_linear = svm.SVC(kernel='linear')"
      ]
    },
    {
      "cell_type": "code",
      "execution_count": 53,
      "metadata": {
        "id": "RixpjF495mVU"
      },
      "outputs": [],
      "source": [
        "classifier_rbf = svm.SVC(kernel='rbf')"
      ]
    },
    {
      "cell_type": "code",
      "execution_count": 24,
      "metadata": {
        "colab": {
          "base_uri": "https://localhost:8080/"
        },
        "id": "Sbn3kYJ450hy",
        "outputId": "51bcb190-1f50-4465-89cc-b4227ca6eecf"
      },
      "outputs": [
        {
          "output_type": "stream",
          "name": "stdout",
          "text": [
            "using 'kernel=linear' svm\n",
            "예측 정확도: 0.3755\n",
            "using 'kernel=linear' svm\n"
          ]
        }
      ],
      "source": [
        "print(\"using 'kernel=linear' svm\")\n",
        "classifier_linear.fit(CIFAR_train_images,CIFAR_train_labels)\n",
        "pred_linear = classifier_linear.predict(CIFAR_test_images)\n",
        "accuracy_linear = accuracy_score(CIFAR_test_labels,pred_linear)\n",
        "print(\"예측 정확도: {0:,.4f}\".format(accuracy_linear))"
      ]
    },
    {
      "cell_type": "code",
      "execution_count": 25,
      "metadata": {
        "id": "qznuxJfwfdBq",
        "colab": {
          "base_uri": "https://localhost:8080/"
        },
        "outputId": "e6f13d73-dbd0-4920-81f0-a32938de27d6"
      },
      "outputs": [
        {
          "output_type": "stream",
          "name": "stdout",
          "text": [
            "using 'kernel=rbf' svm\n",
            "예측 정확도: 0.5436\n"
          ]
        }
      ],
      "source": [
        "print(\"using 'kernel=rbf' svm\")\n",
        "classifier_rbf.fit(CIFAR_train_images,CIFAR_train_labels)\n",
        "pred_rbf = classifier_rbf.predict(CIFAR_test_images)\n",
        "accuracy_rbf = accuracy_score(CIFAR_test_labels,pred_rbf)\n",
        "print(\"예측 정확도: {0:,.4f}\".format(accuracy_rbf))"
      ]
    },
    {
      "cell_type": "code",
      "execution_count": 26,
      "metadata": {
        "id": "pGNZF3wnfeiQ",
        "colab": {
          "base_uri": "https://localhost:8080/"
        },
        "outputId": "a67c54c7-1672-44a4-b780-af560cd4916a"
      },
      "outputs": [
        {
          "output_type": "stream",
          "name": "stdout",
          "text": [
            "accuracy on training and test sets in a table\n",
            "\n",
            "        accuracy\n",
            "linear    0.3755\n",
            "rbf       0.5436\n"
          ]
        }
      ],
      "source": [
        "import pandas as pd\n",
        "\n",
        "col=['accuracy']\n",
        "index=['linear','rbf']\n",
        "con=[[accuracy_linear],[accuracy_rbf]]\n",
        "\n",
        "accuracy_table = pd.DataFrame(con,columns=col,index=index)\n",
        "print(\"accuracy on training and test sets in a table\")\n",
        "print()\n",
        "print(accuracy_table)"
      ]
    },
    {
      "cell_type": "markdown",
      "metadata": {
        "id": "DOUSKiMZ2Q1q"
      },
      "source": [
        "#### MNIST dataset"
      ]
    },
    {
      "cell_type": "code",
      "execution_count": 27,
      "metadata": {
        "id": "pRx4_uIbnQPt"
      },
      "outputs": [],
      "source": [
        "classifier_linear = svm.SVC(kernel='linear')\n",
        "classifier_rbf = svm.SVC(kernel='rbf')"
      ]
    },
    {
      "cell_type": "code",
      "execution_count": 28,
      "metadata": {
        "id": "0c-yu2ihnTAp",
        "colab": {
          "base_uri": "https://localhost:8080/"
        },
        "outputId": "3a21f6f6-8487-4e72-e4e1-041be09a9ef2"
      },
      "outputs": [
        {
          "output_type": "stream",
          "name": "stdout",
          "text": [
            "using 'kernel=linear' svm\n",
            "예측 정확도: 0.9404\n"
          ]
        }
      ],
      "source": [
        "print(\"using 'kernel=linear' svm\")\n",
        "classifier_linear.fit(MNIST_train_images,MNIST_train_labels)\n",
        "pred_linear = classifier_linear.predict(MNIST_test_images)\n",
        "accuracy_linear = accuracy_score(MNIST_test_labels,pred_linear)\n",
        "print(\"예측 정확도: {0:,.4f}\".format(accuracy_linear))"
      ]
    },
    {
      "cell_type": "code",
      "execution_count": 29,
      "metadata": {
        "id": "d96Wf8xVnTTr",
        "colab": {
          "base_uri": "https://localhost:8080/"
        },
        "outputId": "b82f16cc-ea70-4429-e8cf-250f91a03f56"
      },
      "outputs": [
        {
          "output_type": "stream",
          "name": "stdout",
          "text": [
            "using 'kernel=rbf' svm\n",
            "예측 정확도: 0.9792\n"
          ]
        }
      ],
      "source": [
        "print(\"using 'kernel=rbf' svm\")\n",
        "classifier_rbf.fit(MNIST_train_images,MNIST_train_labels)\n",
        "pred_rbf = classifier_rbf.predict(MNIST_test_images)\n",
        "accuracy_rbf = accuracy_score(MNIST_test_labels,pred_rbf)\n",
        "print(\"예측 정확도: {0:,.4f}\".format(accuracy_rbf))"
      ]
    },
    {
      "cell_type": "code",
      "execution_count": 30,
      "metadata": {
        "id": "h0aij8RxnU8I",
        "colab": {
          "base_uri": "https://localhost:8080/"
        },
        "outputId": "dd06d4ac-f371-4202-98e3-9f1bffc85a64"
      },
      "outputs": [
        {
          "output_type": "stream",
          "name": "stdout",
          "text": [
            "accuracy on training and test sets in a table\n",
            "\n",
            "        accuracy\n",
            "linear    0.9404\n",
            "rbf       0.9792\n"
          ]
        }
      ],
      "source": [
        "col=['accuracy']\n",
        "index=['linear','rbf']\n",
        "con=[[accuracy_linear],[accuracy_rbf]]\n",
        "\n",
        "accuracy_table = pd.DataFrame(con,columns=col,index=index)\n",
        "print(\"accuracy on training and test sets in a table\")\n",
        "print()\n",
        "print(accuracy_table)"
      ]
    }
  ],
  "metadata": {
    "colab": {
      "provenance": []
    },
    "kernelspec": {
      "display_name": "Python 3",
      "name": "python3"
    },
    "language_info": {
      "name": "python"
    },
    "gpuClass": "standard"
  },
  "nbformat": 4,
  "nbformat_minor": 0
}